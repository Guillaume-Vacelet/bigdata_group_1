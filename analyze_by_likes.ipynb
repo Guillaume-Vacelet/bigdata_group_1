{
 "cells": [
  {
   "cell_type": "code",
   "execution_count": 1,
   "id": "bbb0ba88-3840-4357-bbae-80cd4969258e",
   "metadata": {},
   "outputs": [],
   "source": [
    "import pandas as pd\n",
    "import numpy as np\n",
    "from matplotlib import pyplot as plt\n",
    "\n",
    "trump_dataset = pd.read_csv('hashtag_donaldtrump.csv', encoding='latin_1', lineterminator='\\n')\n",
    "biden_dataset = pd.read_csv('hashtag_joebiden.csv', encoding='latin_1', lineterminator='\\n')"
   ]
  },
  {
   "cell_type": "code",
   "execution_count": 4,
   "id": "2fd1ad04",
   "metadata": {},
   "outputs": [
    {
     "name": "stdout",
     "output_type": "stream",
     "text": [
      "['2020-10-21', '2020-10-27', '2020-10-28', '2020-10-29', '2020-10-30', '2020-11-01', '2020-11-02', '2020-11-03', '2020-11-04', '2020-11-05', '2020-11-06', '2020-11-07', '2020-11-08', '2020-11-09']\n"
     ]
    },
    {
     "ename": "AttributeError",
     "evalue": "'list' object has no attribute 'values'",
     "output_type": "error",
     "traceback": [
      "\u001b[0;31m---------------------------------------------------------------------------\u001b[0m",
      "\u001b[0;31mAttributeError\u001b[0m                            Traceback (most recent call last)",
      "\u001b[0;32m/tmp/ipykernel_17929/3135758054.py\u001b[0m in \u001b[0;36m<module>\u001b[0;34m\u001b[0m\n\u001b[1;32m     29\u001b[0m \u001b[0mlikes_per_day_biden\u001b[0m \u001b[0;34m=\u001b[0m \u001b[0msorted\u001b[0m\u001b[0;34m(\u001b[0m\u001b[0mlikes_per_day_biden\u001b[0m\u001b[0;34m.\u001b[0m\u001b[0mkeys\u001b[0m\u001b[0;34m(\u001b[0m\u001b[0;34m)\u001b[0m\u001b[0;34m)\u001b[0m\u001b[0;34m\u001b[0m\u001b[0;34m\u001b[0m\u001b[0m\n\u001b[1;32m     30\u001b[0m \u001b[0mprint\u001b[0m\u001b[0;34m(\u001b[0m\u001b[0mlikes_per_day_trump\u001b[0m\u001b[0;34m)\u001b[0m\u001b[0;34m\u001b[0m\u001b[0;34m\u001b[0m\u001b[0m\n\u001b[0;32m---> 31\u001b[0;31m \u001b[0mplt\u001b[0m\u001b[0;34m.\u001b[0m\u001b[0mplot\u001b[0m\u001b[0;34m(\u001b[0m\u001b[0;34m[\u001b[0m\u001b[0mlike\u001b[0m \u001b[0;32mfor\u001b[0m \u001b[0mlike\u001b[0m \u001b[0;32min\u001b[0m \u001b[0mlikes_per_day_biden\u001b[0m\u001b[0;34m.\u001b[0m\u001b[0mvalues\u001b[0m\u001b[0;34m(\u001b[0m\u001b[0;34m)\u001b[0m\u001b[0;34m]\u001b[0m\u001b[0;34m,\u001b[0m \u001b[0mlabel\u001b[0m\u001b[0;34m=\u001b[0m\u001b[0;34m\"Biden\"\u001b[0m\u001b[0;34m,\u001b[0m \u001b[0mcolor\u001b[0m\u001b[0;34m=\u001b[0m\u001b[0;34m\"blue\"\u001b[0m\u001b[0;34m)\u001b[0m\u001b[0;34m\u001b[0m\u001b[0;34m\u001b[0m\u001b[0m\n\u001b[0m\u001b[1;32m     32\u001b[0m \u001b[0mplt\u001b[0m\u001b[0;34m.\u001b[0m\u001b[0mplot\u001b[0m\u001b[0;34m(\u001b[0m\u001b[0;34m[\u001b[0m\u001b[0mlike\u001b[0m \u001b[0;32mfor\u001b[0m \u001b[0mlike\u001b[0m \u001b[0;32min\u001b[0m \u001b[0mlikes_per_day_trump\u001b[0m\u001b[0;34m.\u001b[0m\u001b[0mvalues\u001b[0m\u001b[0;34m(\u001b[0m\u001b[0;34m)\u001b[0m\u001b[0;34m]\u001b[0m\u001b[0;34m,\u001b[0m \u001b[0mlabel\u001b[0m\u001b[0;34m=\u001b[0m\u001b[0;34m\"Trump\"\u001b[0m\u001b[0;34m,\u001b[0m \u001b[0mcolor\u001b[0m\u001b[0;34m=\u001b[0m\u001b[0;34m\"red\"\u001b[0m\u001b[0;34m)\u001b[0m\u001b[0;34m\u001b[0m\u001b[0;34m\u001b[0m\u001b[0m\n\u001b[1;32m     33\u001b[0m \u001b[0;34m\u001b[0m\u001b[0m\n",
      "\u001b[0;31mAttributeError\u001b[0m: 'list' object has no attribute 'values'"
     ]
    },
    {
     "data": {
      "text/plain": [
       "<Figure size 2160x576 with 0 Axes>"
      ]
     },
     "metadata": {},
     "output_type": "display_data"
    }
   ],
   "source": [
    "likes_trump = []\n",
    "likes_per_day_trump = {}\n",
    "\n",
    "likes_biden = []\n",
    "likes_per_day_biden = {}\n",
    "\n",
    "for index, row in trump_dataset.iterrows():\n",
    "    likes_trump.append({\"date\": row['collected_at'].split()[0], \"likes\": row['likes']})\n",
    "for index, row in biden_dataset.iterrows():\n",
    "    likes_biden.append({\"date\": row['collected_at'].split()[0], \"likes\": row['likes']})\n",
    "\n",
    "for like_trump in likes_trump:\n",
    "    if like_trump[\"date\"] in likes_per_day_trump:\n",
    "        likes_per_day_trump[like_trump[\"date\"]] += like_trump[\"likes\"]\n",
    "    else:\n",
    "        likes_per_day_trump[like_trump[\"date\"]] = like_trump[\"likes\"]\n",
    "\n",
    "for like_biden in likes_biden:\n",
    "    if like_biden[\"date\"] in likes_per_day_biden:\n",
    "        likes_per_day_biden[like_biden[\"date\"]] += like_biden[\"likes\"]\n",
    "    else:\n",
    "        likes_per_day_biden[like_biden[\"date\"]] = like_biden[\"likes\"]\n",
    "\n",
    "plt.figure(figsize=(30,8))\n",
    "\n",
    "x_pos = np.arange(len(likes_per_day_trump))\n",
    "\n",
    "plt.plot([like for like in likes_per_day_biden.values()], label=\"Biden\", color=\"blue\")\n",
    "plt.plot([like for like in likes_per_day_trump.values()], label=\"Trump\", color=\"red\")\n",
    "\n",
    "plt.xticks(x_pos, [key for key in likes_per_day_trump])\n",
    "\n",
    "plt.ylabel('Number of likes per candidate')\n",
    "plt.legend()\n",
    "plt.show()\n"
   ]
  }
 ],
 "metadata": {
  "kernelspec": {
   "display_name": "Python 3 (ipykernel)",
   "language": "python",
   "name": "python3"
  },
  "language_info": {
   "codemirror_mode": {
    "name": "ipython",
    "version": 3
   },
   "file_extension": ".py",
   "mimetype": "text/x-python",
   "name": "python",
   "nbconvert_exporter": "python",
   "pygments_lexer": "ipython3",
   "version": "3.8.10"
  }
 },
 "nbformat": 4,
 "nbformat_minor": 5
}
